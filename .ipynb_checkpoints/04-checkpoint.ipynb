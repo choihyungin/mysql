{
 "cells": [
  {
   "cell_type": "code",
   "execution_count": null,
   "metadata": {
    "collapsed": true
   },
   "outputs": [],
   "source": [
    "import pymysql\n",
    "\n",
    "conn = pymysql.connect(\n",
    "    host = 'localhost', user='root', password='1234',\n",
    "    db = 'python', charset='utf8'\n",
    ")\n",
    "cursor = conn.cursor()\n",
    "\n",
    "sql = '''CREATE TABLE mysql2 (\n",
    "            id INTEGER PRIMARY KEY AUTO_INCREMENT,\n",
    "            title VARCHAR(100), content VARCHAR(100))'''\n",
    "cursor.execute(sql)\n",
    "conn.commit()\n",
    "cursor.close()\n",
    "conn.close()"
   ]
  },
  {
   "cell_type": "code",
   "execution_count": null,
   "metadata": {
    "collapsed": true
   },
   "outputs": [],
   "source": [
    "import pymysql\n",
    "\n",
    "conn = None\n",
    "\n",
    "try:\n",
    "    conn = pymysql.connect(\n",
    "        host = 'localhost', user='root', password='1234',\n",
    "        db = 'python', charset='utf8'\n",
    "    )\n",
    "\n",
    "    with conn.cursor() as cursor:\n",
    "        sql = '''CREATE TABLE mysql2 (\n",
    "                    id INTEGER PRIMARY KEY AUTO_INCREMENT,\n",
    "                    title VARCHAR(100), content VARCHAR(100))'''\n",
    "        cursor.execute(sql)\n",
    "        conn.commit()\n",
    "\n",
    "\n",
    "except pymysql.InternalError as e:\n",
    "    print(e)\n",
    "\n",
    "finally:\n",
    "    if conn:\n",
    "        conn.close()"
   ]
  },
  {
   "cell_type": "code",
   "execution_count": null,
   "metadata": {
    "collapsed": true
   },
   "outputs": [],
   "source": [
    "import pymysql\n",
    "\n",
    "conn = pymysql.connect(\n",
    "    host = 'localhost', user='root', password='1234',\n",
    "    db = 'python', charset='utf8'\n",
    ")\n",
    "cursor = conn.cursor()\n",
    "sql = '''UPDATE mysql2 SET TITLE = %s\n",
    "            WHERE ID = %s'''\n",
    "\n",
    "cursor.execute(sql, ('제목수정됨', '1'))\n",
    "\n",
    "conn.commit()\n",
    "cursor.close()\n",
    "conn.close()"
   ]
  },
  {
   "cell_type": "code",
   "execution_count": null,
   "metadata": {
    "collapsed": true
   },
   "outputs": [],
   "source": [
    "import pymysql\n",
    "\n",
    "conn = pymysql.connect(\n",
    "    host = 'localhost', user='root', password='1234',\n",
    "    db = 'python', charset='utf8'\n",
    ")\n",
    "cursor = conn.cursor()\n",
    "sql = '''DELETE FROM mysql2 \n",
    "            WHERE ID = %s'''\n",
    "\n",
    "cursor.execute(sql, (2))\n",
    "\n",
    "conn.commit()\n",
    "cursor.close()\n",
    "conn.close()"
   ]
  }
 ],
 "metadata": {
  "kernelspec": {
   "display_name": "Python 3",
   "language": "python",
   "name": "python3"
  },
  "language_info": {
   "codemirror_mode": {
    "name": "ipython",
    "version": 3
   },
   "file_extension": ".py",
   "mimetype": "text/x-python",
   "name": "python",
   "nbconvert_exporter": "python",
   "pygments_lexer": "ipython3",
   "version": "3.6.1"
  }
 },
 "nbformat": 4,
 "nbformat_minor": 2
}
