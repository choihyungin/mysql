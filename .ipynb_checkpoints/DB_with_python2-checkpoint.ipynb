{
 "cells": [
  {
   "cell_type": "markdown",
   "metadata": {},
   "source": [
    "## SELECT"
   ]
  },
  {
   "cell_type": "code",
   "execution_count": 1,
   "metadata": {
    "collapsed": true
   },
   "outputs": [
    {
     "name": "stdout",
     "output_type": "stream",
     "text": [
      "2016 경기 749\n",
      "2016 서울 342\n",
      "2016 충북 221\n",
      "2016 경북 477\n",
      "2016 경남 359\n",
      "2016 인천 137\n",
      "2016 충남 372\n",
      "2016 전남 327\n",
      "2016 강원 206\n",
      "2016 전북 275\n",
      "2016 부산 153\n",
      "2016 대전 94\n",
      "2016 세종 25\n",
      "2016 대구 150\n",
      "2016 제주 77\n",
      "2016 울산 70\n",
      "2016 광주 85\n"
     ]
    }
   ],
   "source": [
    "import pymysql\n",
    "\n",
    "conn = pymysql.connect(\n",
    "    host = 'localhost', user='root', password='1234',\n",
    "    db = 'mydb', charset='utf8'\n",
    ")\n",
    "cursor = conn.cursor()\n",
    "sql = '''SELECT year, area1, count(*)\n",
    "        FROM accident\n",
    "        GROUP BY AREA1, YEAR'''\n",
    "\n",
    "cursor.execute(sql)\n",
    "result = cursor.fetchall()\n",
    "for row in result:\n",
    "    print(row[0], row[1], row[2])\n",
    "\n",
    "conn.commit()\n",
    "cursor.close()\n",
    "conn.close()"
   ]
  },
  {
   "cell_type": "markdown",
   "metadata": {},
   "source": [
    "## SELECT (Dict)"
   ]
  },
  {
   "cell_type": "code",
   "execution_count": 5,
   "metadata": {
    "collapsed": true
   },
   "outputs": [
    {
     "name": "stdout",
     "output_type": "stream",
     "text": [
      "2016 경기 749\n",
      "2016 서울 342\n",
      "2016 충북 221\n",
      "2016 경북 477\n",
      "2016 경남 359\n",
      "2016 인천 137\n",
      "2016 충남 372\n",
      "2016 전남 327\n",
      "2016 강원 206\n",
      "2016 전북 275\n",
      "2016 부산 153\n",
      "2016 대전 94\n",
      "2016 세종 25\n",
      "2016 대구 150\n",
      "2016 제주 77\n",
      "2016 울산 70\n",
      "2016 광주 85\n"
     ]
    }
   ],
   "source": [
    "import pymysql\n",
    "\n",
    "conn = pymysql.connect(\n",
    "    host = 'localhost', user='root', password='1234',\n",
    "    db = 'mydb', charset='utf8'\n",
    ")\n",
    "cursor = conn.cursor(pymysql.cursors.DictCursor)\n",
    "sql = '''SELECT year, area1, count(*) as cnt\n",
    "        FROM accident\n",
    "        GROUP BY AREA1, YEAR'''\n",
    "\n",
    "cursor.execute(sql)\n",
    "result = cursor.fetchall()\n",
    "for row in result:\n",
    "    print(row['year'], row['area1'], row['cnt'])\n",
    "\n",
    "conn.commit()\n",
    "cursor.close()\n",
    "conn.close()"
   ]
  },
  {
   "cell_type": "markdown",
   "metadata": {},
   "source": [
    "## CREATE TABLE (member, article)"
   ]
  },
  {
   "cell_type": "code",
   "execution_count": 30,
   "metadata": {},
   "outputs": [],
   "source": [
    "import pymysql\n",
    "\n",
    "conn = pymysql.connect(\n",
    "    host = 'localhost', user='root', password='1234',\n",
    "    db = 'mydb', charset='utf8'\n",
    ")\n",
    "cursor = conn.cursor()\n",
    "\n",
    "sql = '''CREATE TABLE member (\n",
    "            num INTEGER PRIMARY KEY AUTO_INCREMENT,\n",
    "            name VARCHAR(30), \n",
    "            email VARCHAR(30),\n",
    "            c_date DATETIME)'''\n",
    "cursor.execute(sql)\n",
    "conn.commit()\n",
    "cursor.close()\n",
    "conn.close()"
   ]
  },
  {
   "cell_type": "code",
   "execution_count": 8,
   "metadata": {},
   "outputs": [],
   "source": [
    "import pymysql\n",
    "\n",
    "conn = pymysql.connect(\n",
    "    host = 'localhost', user='root', password='1234',\n",
    "    db = 'mydb', charset='utf8'\n",
    ")\n",
    "cursor = conn.cursor()\n",
    "\n",
    "sql = '''CREATE TABLE article (\n",
    "            id INTEGER PRIMARY KEY AUTO_INCREMENT,\n",
    "            title VARCHAR(30), \n",
    "            content VARCHAR(30),\n",
    "            writer VARCHAR(30),\n",
    "            hit INTEGER,\n",
    "            c_date DATETIME)'''\n",
    "cursor.execute(sql)\n",
    "conn.commit()\n",
    "cursor.close()\n",
    "conn.close()"
   ]
  },
  {
   "cell_type": "markdown",
   "metadata": {},
   "source": [
    "## INSERT"
   ]
  },
  {
   "cell_type": "code",
   "execution_count": 17,
   "metadata": {},
   "outputs": [],
   "source": [
    "import pymysql\n",
    "\n",
    "conn = pymysql.connect(\n",
    "    host = 'localhost', user='root', password='1234',\n",
    "    db = 'mydb', charset='utf8'\n",
    ")\n",
    "cursor = conn.cursor()\n",
    "sql = '''INSERT INTO member (NUM, NAME, EMAIL, C_DATE)\n",
    "            VALUES(NULL, %s, %s, now())'''\n",
    "\n",
    "cursor.execute(sql, ('a', 'a@a.com'))\n",
    "\n",
    "conn.commit()\n",
    "cursor.close()\n",
    "conn.close()"
   ]
  },
  {
   "cell_type": "code",
   "execution_count": 11,
   "metadata": {},
   "outputs": [],
   "source": [
    "import pymysql\n",
    "\n",
    "conn = pymysql.connect(\n",
    "    host = 'localhost', user='root', password='1234',\n",
    "    db = 'mydb', charset='utf8'\n",
    ")\n",
    "cursor = conn.cursor()\n",
    "sql = '''INSERT INTO article (ID, TITLE, CONTENT, WRITER, HIT, C_DATE)\n",
    "            VALUES(NULL, %s, %s, %s, %s, now())'''\n",
    "\n",
    "cursor.execute(sql, ('제목', '내용', '파이썬', 0))\n",
    "\n",
    "conn.commit()\n",
    "cursor.close()\n",
    "conn.close()"
   ]
  },
  {
   "cell_type": "markdown",
   "metadata": {},
   "source": [
    "## UPDATE TABLE"
   ]
  },
  {
   "cell_type": "code",
   "execution_count": 19,
   "metadata": {},
   "outputs": [],
   "source": [
    "import pymysql\n",
    "\n",
    "conn = pymysql.connect(\n",
    "    host = 'localhost', user='root', password='1234',\n",
    "    db = 'mydb', charset='utf8'\n",
    ")\n",
    "cursor = conn.cursor()\n",
    "sql = '''UPDATE member SET\n",
    "        NAME = %s, EMAIL = %s\n",
    "        WHERE num = %s'''\n",
    "\n",
    "cursor.execute(sql, ('aa', 'aa@aa.com', 1))\n",
    "\n",
    "conn.commit()\n",
    "cursor.close()\n",
    "conn.close()"
   ]
  },
  {
   "cell_type": "code",
   "execution_count": 21,
   "metadata": {},
   "outputs": [],
   "source": [
    "import pymysql\n",
    "\n",
    "conn = pymysql.connect(\n",
    "    host = 'localhost', user='root', password='1234',\n",
    "    db = 'mydb', charset='utf8'\n",
    ")\n",
    "cursor = conn.cursor()\n",
    "sql = '''UPDATE article SET\n",
    "        TITLE = %s, CONTENT = %s, HIT = %s\n",
    "        WHERE ID = %s'''\n",
    "\n",
    "cursor.execute(sql, ('제목수정', '내용수정', 100, 1))\n",
    "\n",
    "conn.commit()\n",
    "cursor.close()\n",
    "conn.close()"
   ]
  },
  {
   "cell_type": "markdown",
   "metadata": {},
   "source": [
    "## DELETE"
   ]
  },
  {
   "cell_type": "code",
   "execution_count": 28,
   "metadata": {},
   "outputs": [],
   "source": [
    "import pymysql\n",
    "\n",
    "conn = pymysql.connect(\n",
    "    host = 'localhost', user='root', password='1234',\n",
    "    db = 'mydb', charset='utf8'\n",
    ")\n",
    "cursor = conn.cursor()\n",
    "sql = '''DELETE FROM MEMBER'''\n",
    "\n",
    "cursor.execute(sql)\n",
    "\n",
    "conn.commit()\n",
    "cursor.close()\n",
    "conn.close()"
   ]
  },
  {
   "cell_type": "markdown",
   "metadata": {},
   "source": [
    "## INSERT, SELECT (LIMIT)"
   ]
  },
  {
   "cell_type": "code",
   "execution_count": 43,
   "metadata": {},
   "outputs": [],
   "source": [
    "import pymysql\n",
    "def insert(sql, data):\n",
    "    cursor.execute(sql, data)\n",
    "    \n",
    "conn = pymysql.connect(\n",
    "     host='localhost', user='root', password='1234',\n",
    "     db='mydb', charset='utf8')\n",
    "cursor = conn.cursor()"
   ]
  },
  {
   "cell_type": "code",
   "execution_count": null,
   "metadata": {},
   "outputs": [],
   "source": [
    "sql = '''INSERT INTO MEMBER\n",
    "         (NUM, NAME, EMAIL, C_DATE)\n",
    "         VALUES (NULL, %s, %s, NOW())'''\n",
    "\n",
    "for i in range(1, 101):\n",
    "    insert(sql, ('제목' + str(i), 'a@a.com'))\n",
    "\n",
    "conn.commit()"
   ]
  },
  {
   "cell_type": "code",
   "execution_count": 44,
   "metadata": {},
   "outputs": [
    {
     "name": "stdout",
     "output_type": "stream",
     "text": [
      "96 제목96 a@a.com 2020-01-28 11:23:50\n",
      "97 제목97 a@a.com 2020-01-28 11:23:50\n",
      "98 제목98 a@a.com 2020-01-28 11:23:50\n",
      "99 제목99 a@a.com 2020-01-28 11:23:50\n",
      "100 제목100 a@a.com 2020-01-28 11:23:50\n"
     ]
    }
   ],
   "source": [
    "sql = '''SELECT NUM, NAME, EMAIL, C_DATE FROM MEMBER LIMIT 95, 100'''\n",
    "cursor.execute(sql)\n",
    "result = cursor.fetchall()\n",
    "for row in result:\n",
    "    print(row[0], row[1], row[2], row[3])\n",
    "\n",
    "conn.commit()\n",
    "cursor.close()\n",
    "conn.close()"
   ]
  }
 ],
 "metadata": {
  "kernelspec": {
   "display_name": "Python 3",
   "language": "python",
   "name": "python3"
  },
  "language_info": {
   "codemirror_mode": {
    "name": "ipython",
    "version": 3
   },
   "file_extension": ".py",
   "mimetype": "text/x-python",
   "name": "python",
   "nbconvert_exporter": "python",
   "pygments_lexer": "ipython3",
   "version": "3.7.4"
  }
 },
 "nbformat": 4,
 "nbformat_minor": 2
}
