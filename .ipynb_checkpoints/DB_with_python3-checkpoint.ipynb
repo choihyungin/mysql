{
 "cells": [
  {
   "cell_type": "code",
   "execution_count": 22,
   "metadata": {},
   "outputs": [
    {
     "name": "stdout",
     "output_type": "stream",
     "text": [
      "800 속씨원한대구탕 \n",
      "808 신기산업 \n"
     ]
    }
   ],
   "source": [
    "import pymysql\n",
    "\n",
    "conn = pymysql.connect(\n",
    "    host = 'localhost', user='root', password='1234',\n",
    "    db = 'mydb', charset='utf8'\n",
    ")\n",
    "cursor = conn.cursor()\n",
    "sql = '''SELECT shop_id, shop_name FROM SHOP\n",
    "        WHERE REST_DATE = '연중무휴' AND PARKING_INFO = '주차가능'\n",
    "        '''\n",
    "\n",
    "cursor.execute(sql)\n",
    "result = cursor.fetchall()\n",
    "# for row in result:\n",
    "#     print(row[0], row[1])\n",
    "\n",
    "    \n",
    "for row in result:\n",
    "    for col in row:\n",
    "        print(col, end=' ')\n",
    "    print()\n",
    "    \n",
    "conn.commit()\n",
    "cursor.close()\n",
    "conn.close()"
   ]
  },
  {
   "cell_type": "code",
   "execution_count": 27,
   "metadata": {},
   "outputs": [
    {
     "name": "stdout",
     "output_type": "stream",
     "text": [
      "a 일길동 751111-*******\n",
      "b 이길동 761111-*******\n",
      "c 삼길동 771111-*******\n",
      "d 사길동 781111-*******\n",
      "e 오길동 791111-*******\n",
      "f 육길동 801111-*******\n",
      "g 칠길동 811111-*******\n"
     ]
    }
   ],
   "source": [
    "import pymysql\n",
    "import re\n",
    "\n",
    "conn = pymysql.connect(\n",
    "    host = 'localhost', user='root', password='1234',\n",
    "    db = 'mydb', charset='utf8'\n",
    ")\n",
    "cursor = conn.cursor()\n",
    "sql = '''SELECT * FROM INFO'''\n",
    "\n",
    "cursor.execute(sql)\n",
    "result = cursor.fetchall()\n",
    "\n",
    "for row in result:\n",
    "    pattern = re.compile('(\\d{6})-(\\d{7})')\n",
    "    res = pattern.sub('\\g<1>-*******', row[2])\n",
    "    print(row[0], row[1], res)\n",
    "conn.commit()\n",
    "cursor.close()\n",
    "conn.close()"
   ]
  }
 ],
 "metadata": {
  "kernelspec": {
   "display_name": "Python 3",
   "language": "python",
   "name": "python3"
  },
  "language_info": {
   "codemirror_mode": {
    "name": "ipython",
    "version": 3
   },
   "file_extension": ".py",
   "mimetype": "text/x-python",
   "name": "python",
   "nbconvert_exporter": "python",
   "pygments_lexer": "ipython3",
   "version": "3.7.4"
  }
 },
 "nbformat": 4,
 "nbformat_minor": 2
}
