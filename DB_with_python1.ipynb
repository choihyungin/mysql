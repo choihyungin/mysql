{
 "cells": [
  {
   "cell_type": "markdown",
   "metadata": {},
   "source": [
    "### *** workbench에서 db 먼저 생성 - set as default schema ***"
   ]
  },
  {
   "cell_type": "markdown",
   "metadata": {},
   "source": [
    "## 01. CREATE"
   ]
  },
  {
   "cell_type": "code",
   "execution_count": 4,
   "metadata": {},
   "outputs": [],
   "source": [
    "import pymysql\n",
    "\n",
    "conn = pymysql.connect(\n",
    "    host = 'localhost', user='root', password='1234',\n",
    "    db = 'python', charset='utf8'\n",
    ")\n",
    "cursor = conn.cursor()\n",
    "\n",
    "sql = '''CREATE TABLE mysql2 (\n",
    "            id INTEGER PRIMARY KEY AUTO_INCREMENT,\n",
    "            title VARCHAR(100), content VARCHAR(100))'''\n",
    "cursor.execute(sql)\n",
    "conn.commit()\n",
    "cursor.close()\n",
    "conn.close()"
   ]
  },
  {
   "cell_type": "markdown",
   "metadata": {},
   "source": [
    "## 01. INSERT"
   ]
  },
  {
   "cell_type": "code",
   "execution_count": 5,
   "metadata": {},
   "outputs": [],
   "source": [
    "import pymysql\n",
    "\n",
    "conn = pymysql.connect(\n",
    "    host = 'localhost', user='root', password='1234',\n",
    "    db = 'python', charset='utf8'\n",
    ")\n",
    "cursor = conn.cursor()\n",
    "sql = '''INSERT INTO mysql2 (ID, TITLE, CONTENT)\n",
    "            VALUES(NULL, %s, %s)'''\n",
    "\n",
    "cursor.execute(sql, ('제목B', '내용3'))\n",
    "\n",
    "conn.commit()\n",
    "cursor.close()\n",
    "conn.close()"
   ]
  },
  {
   "cell_type": "markdown",
   "metadata": {},
   "source": [
    "## 02. SELECT"
   ]
  },
  {
   "cell_type": "code",
   "execution_count": 6,
   "metadata": {},
   "outputs": [
    {
     "name": "stdout",
     "output_type": "stream",
     "text": [
      "((1, '제목B', '내용3'),)\n",
      "(1, '제목B', '내용3')\n"
     ]
    }
   ],
   "source": [
    "import pymysql\n",
    "\n",
    "conn = pymysql.connect(\n",
    "    host = 'localhost', user='root', password='1234',\n",
    "    db = 'python', charset='utf8'\n",
    ")\n",
    "cursor = conn.cursor()\n",
    "sql = '''SELECT * FROM MYSQL2'''\n",
    "\n",
    "cursor.execute(sql)\n",
    "result = cursor.fetchall()\n",
    "print(result)\n",
    "print(result[0])\n",
    "\n",
    "conn.commit()\n",
    "cursor.close()\n",
    "conn.close()"
   ]
  },
  {
   "cell_type": "markdown",
   "metadata": {},
   "source": [
    "## 03. UPDATE"
   ]
  },
  {
   "cell_type": "code",
   "execution_count": 7,
   "metadata": {},
   "outputs": [],
   "source": [
    "import pymysql\n",
    "\n",
    "conn = pymysql.connect(\n",
    "    host = 'localhost', user='root', password='1234',\n",
    "    db = 'python', charset='utf8'\n",
    ")\n",
    "cursor = conn.cursor()\n",
    "sql = '''UPDATE mysql2 SET TITLE = %s\n",
    "            WHERE ID = %s'''\n",
    "\n",
    "cursor.execute(sql, ('제목수정됨', '1'))\n",
    "\n",
    "conn.commit()\n",
    "cursor.close()\n",
    "conn.close()"
   ]
  },
  {
   "cell_type": "markdown",
   "metadata": {},
   "source": [
    "## 04. DELETE"
   ]
  },
  {
   "cell_type": "code",
   "execution_count": null,
   "metadata": {},
   "outputs": [],
   "source": [
    "import pymysql\n",
    "\n",
    "conn = pymysql.connect(\n",
    "    host = 'localhost', user='root', password='1234',\n",
    "    db = 'python', charset='utf8'\n",
    ")\n",
    "cursor = conn.cursor()\n",
    "sql = '''DELETE FROM mysql2 \n",
    "            WHERE ID = %s'''\n",
    "\n",
    "cursor.execute(sql, (2))\n",
    "\n",
    "conn.commit()\n",
    "cursor.close()\n",
    "conn.close()"
   ]
  }
 ],
 "metadata": {
  "kernelspec": {
   "display_name": "Python 3",
   "language": "python",
   "name": "python3"
  },
  "language_info": {
   "codemirror_mode": {
    "name": "ipython",
    "version": 3
   },
   "file_extension": ".py",
   "mimetype": "text/x-python",
   "name": "python",
   "nbconvert_exporter": "python",
   "pygments_lexer": "ipython3",
   "version": "3.7.4"
  }
 },
 "nbformat": 4,
 "nbformat_minor": 2
}
